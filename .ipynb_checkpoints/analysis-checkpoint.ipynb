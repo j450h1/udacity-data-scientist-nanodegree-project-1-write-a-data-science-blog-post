{
 "cells": [
  {
   "cell_type": "markdown",
   "metadata": {},
   "source": [
    "# Load packages"
   ]
  },
  {
   "cell_type": "code",
   "execution_count": 16,
   "metadata": {},
   "outputs": [],
   "source": [
    "import pandas as pd\n",
    "import re # regexes\n",
    "from pathlib import Path # better way to work with filepaths\n",
    "from matplotlib import pyplot as plt"
   ]
  },
  {
   "cell_type": "markdown",
   "metadata": {},
   "source": [
    "# Load in Data"
   ]
  },
  {
   "cell_type": "markdown",
   "metadata": {},
   "source": [
    "### Data for all of the USA"
   ]
  },
  {
   "cell_type": "code",
   "execution_count": 23,
   "metadata": {},
   "outputs": [
    {
     "data": {
      "text/plain": [
       "PosixPath('/Users/jas/github/udacity-data-scientist-nanodegree-project-1-write-a-data-science-blog-post/data/names/yob2000.txt')"
      ]
     },
     "execution_count": 23,
     "metadata": {},
     "output_type": "execute_result"
    }
   ],
   "source": [
    "# List all .txt files in data directory\n",
    "# One file for each year of baby names in the US since late 1800s until 2018\n",
    "baby_name_folder = Path.cwd() / \"data\" / \"names\"\n",
    "baby_name_files = [x for x in baby_name_folder.glob('*txt')]\n",
    "# Have a look at one file\n",
    "baby_name_files[0]"
   ]
  },
  {
   "cell_type": "code",
   "execution_count": 24,
   "metadata": {},
   "outputs": [
    {
     "data": {
      "text/html": [
       "<div>\n",
       "<style scoped>\n",
       "    .dataframe tbody tr th:only-of-type {\n",
       "        vertical-align: middle;\n",
       "    }\n",
       "\n",
       "    .dataframe tbody tr th {\n",
       "        vertical-align: top;\n",
       "    }\n",
       "\n",
       "    .dataframe thead th {\n",
       "        text-align: right;\n",
       "    }\n",
       "</style>\n",
       "<table border=\"1\" class=\"dataframe\">\n",
       "  <thead>\n",
       "    <tr style=\"text-align: right;\">\n",
       "      <th></th>\n",
       "      <th>name</th>\n",
       "      <th>sex</th>\n",
       "      <th>babies</th>\n",
       "      <th>year</th>\n",
       "    </tr>\n",
       "  </thead>\n",
       "  <tbody>\n",
       "    <tr>\n",
       "      <th>0</th>\n",
       "      <td>Hannah</td>\n",
       "      <td>F</td>\n",
       "      <td>23082</td>\n",
       "      <td>2000</td>\n",
       "    </tr>\n",
       "    <tr>\n",
       "      <th>1</th>\n",
       "      <td>Madison</td>\n",
       "      <td>F</td>\n",
       "      <td>19968</td>\n",
       "      <td>2000</td>\n",
       "    </tr>\n",
       "    <tr>\n",
       "      <th>2</th>\n",
       "      <td>Ashley</td>\n",
       "      <td>F</td>\n",
       "      <td>17997</td>\n",
       "      <td>2000</td>\n",
       "    </tr>\n",
       "    <tr>\n",
       "      <th>3</th>\n",
       "      <td>Sarah</td>\n",
       "      <td>F</td>\n",
       "      <td>17702</td>\n",
       "      <td>2000</td>\n",
       "    </tr>\n",
       "    <tr>\n",
       "      <th>4</th>\n",
       "      <td>Alexis</td>\n",
       "      <td>F</td>\n",
       "      <td>17629</td>\n",
       "      <td>2000</td>\n",
       "    </tr>\n",
       "  </tbody>\n",
       "</table>\n",
       "</div>"
      ],
      "text/plain": [
       "      name sex  babies  year\n",
       "0   Hannah   F   23082  2000\n",
       "1  Madison   F   19968  2000\n",
       "2   Ashley   F   17997  2000\n",
       "3    Sarah   F   17702  2000\n",
       "4   Alexis   F   17629  2000"
      ]
     },
     "execution_count": 24,
     "metadata": {},
     "output_type": "execute_result"
    }
   ],
   "source": [
    "def parse_raw_data(f):\n",
    "    df = pd.read_csv(f, header = 0, names=['name','sex','babies'])\n",
    "    # Add year from the filename\n",
    "    # Data itself doesn't have the year, but the filename always has the pattern of yob{4-digit-Year}.txt\n",
    "    df[\"year\"] = int(re.search(r'\\d\\d\\d\\d', str(f), re.IGNORECASE).group(0))\n",
    "    return(df)\n",
    "\n",
    "# Map function to each file\n",
    "baby_names_list = map(parse_raw_data, baby_name_files)\n",
    "# Load all data into a single pandas dataframe\n",
    "baby_names = pd.concat(baby_names_list)\n",
    "baby_names.head()"
   ]
  },
  {
   "cell_type": "markdown",
   "metadata": {},
   "source": [
    "### Data broken down by states"
   ]
  },
  {
   "cell_type": "code",
   "execution_count": 26,
   "metadata": {},
   "outputs": [
    {
     "name": "stdout",
     "output_type": "stream",
     "text": [
      "\u001b[34mnames\u001b[m\u001b[m        \u001b[34mnamesbystate\u001b[m\u001b[m\r\n"
     ]
    }
   ],
   "source": [
    "!ls data # list all files and folders in data folder"
   ]
  },
  {
   "cell_type": "code",
   "execution_count": 28,
   "metadata": {},
   "outputs": [
    {
     "name": "stdout",
     "output_type": "stream",
     "text": [
      "AK.TXT          HI.TXT          MI.TXT          NV.TXT          TX.TXT\r\n",
      "AL.TXT          IA.TXT          MN.TXT          NY.TXT          UT.TXT\r\n",
      "AR.TXT          ID.TXT          MO.TXT          OH.TXT          VA.TXT\r\n",
      "AZ.TXT          IL.TXT          MS.TXT          OK.TXT          VT.TXT\r\n",
      "CA.TXT          IN.TXT          MT.TXT          OR.TXT          WA.TXT\r\n",
      "CO.TXT          KS.TXT          NC.TXT          PA.TXT          WI.TXT\r\n",
      "CT.TXT          KY.TXT          ND.TXT          RI.TXT          WV.TXT\r\n",
      "DC.TXT          LA.TXT          NE.TXT          SC.TXT          WY.TXT\r\n",
      "DE.TXT          MA.TXT          NH.TXT          SD.TXT\r\n",
      "FL.TXT          MD.TXT          NJ.TXT          StateReadMe.pdf\r\n",
      "GA.TXT          ME.TXT          NM.TXT          TN.TXT\r\n"
     ]
    }
   ],
   "source": [
    "!ls data/namesbystate # one file per state, all CAPS for .TXT"
   ]
  },
  {
   "cell_type": "code",
   "execution_count": 40,
   "metadata": {},
   "outputs": [
    {
     "name": "stdout",
     "output_type": "stream",
     "text": [
      "AK,F,1910,Mary,14\r\n",
      "AK,F,1910,Annie,12\r\n",
      "AK,F,1910,Anna,10\r\n",
      "AK,F,1910,Margaret,8\r\n",
      "AK,F,1910,Helen,7\r\n",
      "AK,F,1910,Elsie,6\r\n",
      "AK,F,1910,Lucy,6\r\n",
      "AK,F,1910,Dorothy,5\r\n",
      "AK,F,1911,Mary,12\r\n",
      "AK,F,1911,Margaret,7\r\n"
     ]
    }
   ],
   "source": [
    "!head data/namesbystate/AK.TXT # Take a peak at a file"
   ]
  },
  {
   "cell_type": "code",
   "execution_count": 39,
   "metadata": {},
   "outputs": [
    {
     "data": {
      "text/plain": [
       "PosixPath('/Users/jas/github/udacity-data-scientist-nanodegree-project-1-write-a-data-science-blog-post/data/namesbystate/IN.TXT')"
      ]
     },
     "execution_count": 39,
     "metadata": {},
     "output_type": "execute_result"
    }
   ],
   "source": [
    "baby_namesbystate_folder = Path.cwd() / \"data\" / \"namesbystate\"\n",
    "baby_namesbystate_files = [x for x in baby_namesbystate_folder.glob('*TXT')]\n",
    "# Have a look at one file\n",
    "baby_namesbystate_files[0]"
   ]
  },
  {
   "cell_type": "code",
   "execution_count": null,
   "metadata": {},
   "outputs": [],
   "source": [
    "# Map function to each file\n",
    "baby_namesbystate_list = map(lambda x: pd.read_csv(f, header = 0,\\\n",
    "names=['state','sex','year','name','babies']), baby_namesbystate_files)\n",
    "\n",
    "# Load all data into a single pandas dataframe\n",
    "baby_namesbystate = pd.concat(baby_namesbystate_list)\n",
    "baby_namesbystate.head()"
   ]
  },
  {
   "cell_type": "markdown",
   "metadata": {},
   "source": [
    "# Exploratory data analysis "
   ]
  },
  {
   "cell_type": "markdown",
   "metadata": {},
   "source": [
    "### How many years of data do we have?"
   ]
  },
  {
   "cell_type": "code",
   "execution_count": 4,
   "metadata": {},
   "outputs": [
    {
     "data": {
      "text/plain": [
       "count    1.956907e+06\n",
       "mean     1.975565e+03\n",
       "std      3.419002e+01\n",
       "min      1.880000e+03\n",
       "25%      1.952000e+03\n",
       "50%      1.985000e+03\n",
       "75%      2.004000e+03\n",
       "max      2.018000e+03\n",
       "Name: year, dtype: float64"
      ]
     },
     "execution_count": 4,
     "metadata": {},
     "output_type": "execute_result"
    }
   ],
   "source": [
    "baby_names[\"year\"].describe()"
   ]
  },
  {
   "cell_type": "code",
   "execution_count": 5,
   "metadata": {},
   "outputs": [
    {
     "data": {
      "text/plain": [
       "count    1956907.000000\n",
       "mean        1975.564815\n",
       "std           34.190022\n",
       "min         1880.000000\n",
       "25%         1952.000000\n",
       "50%         1985.000000\n",
       "75%         2004.000000\n",
       "max         2018.000000\n",
       "Name: year, dtype: object"
      ]
     },
     "execution_count": 5,
     "metadata": {},
     "output_type": "execute_result"
    }
   ],
   "source": [
    "# Avoid scientific notation\n",
    "# https://stackoverflow.com/questions/40347689/dataframe-describe-suppress-scientific-notation\n",
    "baby_names[\"year\"].describe().apply(lambda x: format(x, 'f'))"
   ]
  },
  {
   "cell_type": "code",
   "execution_count": 6,
   "metadata": {},
   "outputs": [
    {
     "data": {
      "text/plain": [
       "139"
      ]
     },
     "execution_count": 6,
     "metadata": {},
     "output_type": "execute_result"
    }
   ],
   "source": [
    "baby_names['year'].nunique()"
   ]
  },
  {
   "cell_type": "markdown",
   "metadata": {},
   "source": [
    "* 1880 to 2018, 139 years of data"
   ]
  },
  {
   "cell_type": "markdown",
   "metadata": {},
   "source": [
    "### How has the US born population increased over the years - using baby names as a proxy?"
   ]
  },
  {
   "cell_type": "code",
   "execution_count": 7,
   "metadata": {},
   "outputs": [
    {
     "data": {
      "text/plain": [
       "year\n",
       "1880     194419\n",
       "1881     185777\n",
       "1882     213385\n",
       "1883     208932\n",
       "1884     234244\n",
       "         ...   \n",
       "2014    3677978\n",
       "2015    3671535\n",
       "2016    3638301\n",
       "2017    3542175\n",
       "2018    3468665\n",
       "Name: babies, Length: 139, dtype: int64"
      ]
     },
     "execution_count": 7,
     "metadata": {},
     "output_type": "execute_result"
    }
   ],
   "source": [
    "baby_names.groupby('year')['babies'].sum()"
   ]
  },
  {
   "cell_type": "markdown",
   "metadata": {},
   "source": [
    "* We can see the huge growth over the decades. Remember, this is NOT the total US Population. In fact, it is the top 1000 names which represent > 70% of US baby names in the US for 2018 (latest year of data)"
   ]
  },
  {
   "cell_type": "markdown",
   "metadata": {},
   "source": [
    "### Has the diversity (uniqueness) of baby names increased over the years?"
   ]
  },
  {
   "cell_type": "code",
   "execution_count": 8,
   "metadata": {},
   "outputs": [
    {
     "data": {
      "text/plain": [
       "year\n",
       "1880     1889\n",
       "1881     1830\n",
       "1882     2012\n",
       "1883     1962\n",
       "1884     2158\n",
       "        ...  \n",
       "2014    30742\n",
       "2015    30603\n",
       "2016    30415\n",
       "2017    30006\n",
       "2018    29494\n",
       "Name: name, Length: 139, dtype: int64"
      ]
     },
     "execution_count": 8,
     "metadata": {},
     "output_type": "execute_result"
    }
   ],
   "source": [
    "baby_names.groupby('year')['name'].nunique()"
   ]
  },
  {
   "cell_type": "markdown",
   "metadata": {},
   "source": [
    "* Appears to be the case"
   ]
  },
  {
   "cell_type": "markdown",
   "metadata": {
    "collapsed": true
   },
   "source": [
    "### What first letter is the most popular in the US in the past few years?"
   ]
  },
  {
   "cell_type": "code",
   "execution_count": 9,
   "metadata": {},
   "outputs": [
    {
     "data": {
      "text/html": [
       "<div>\n",
       "<style scoped>\n",
       "    .dataframe tbody tr th:only-of-type {\n",
       "        vertical-align: middle;\n",
       "    }\n",
       "\n",
       "    .dataframe tbody tr th {\n",
       "        vertical-align: top;\n",
       "    }\n",
       "\n",
       "    .dataframe thead th {\n",
       "        text-align: right;\n",
       "    }\n",
       "</style>\n",
       "<table border=\"1\" class=\"dataframe\">\n",
       "  <thead>\n",
       "    <tr style=\"text-align: right;\">\n",
       "      <th></th>\n",
       "      <th>year</th>\n",
       "      <th>first_letter</th>\n",
       "      <th>babies</th>\n",
       "    </tr>\n",
       "  </thead>\n",
       "  <tbody>\n",
       "    <tr>\n",
       "      <th>0</th>\n",
       "      <td>1880</td>\n",
       "      <td>A</td>\n",
       "      <td>16740</td>\n",
       "    </tr>\n",
       "    <tr>\n",
       "      <th>1</th>\n",
       "      <td>1880</td>\n",
       "      <td>B</td>\n",
       "      <td>5991</td>\n",
       "    </tr>\n",
       "    <tr>\n",
       "      <th>2</th>\n",
       "      <td>1880</td>\n",
       "      <td>C</td>\n",
       "      <td>15817</td>\n",
       "    </tr>\n",
       "    <tr>\n",
       "      <th>3</th>\n",
       "      <td>1880</td>\n",
       "      <td>D</td>\n",
       "      <td>4706</td>\n",
       "    </tr>\n",
       "    <tr>\n",
       "      <th>4</th>\n",
       "      <td>1880</td>\n",
       "      <td>E</td>\n",
       "      <td>18338</td>\n",
       "    </tr>\n",
       "  </tbody>\n",
       "</table>\n",
       "</div>"
      ],
      "text/plain": [
       "   year first_letter  babies\n",
       "0  1880            A   16740\n",
       "1  1880            B    5991\n",
       "2  1880            C   15817\n",
       "3  1880            D    4706\n",
       "4  1880            E   18338"
      ]
     },
     "execution_count": 9,
     "metadata": {},
     "output_type": "execute_result"
    }
   ],
   "source": [
    "baby_names['first_letter'] = baby_names['name'].str[0]\n",
    "first_letters = baby_names.groupby(['year','first_letter']).agg({'babies':'sum'}).reset_index()\n",
    "first_letters.head()\n"
   ]
  },
  {
   "cell_type": "code",
   "execution_count": 10,
   "metadata": {},
   "outputs": [
    {
     "name": "stderr",
     "output_type": "stream",
     "text": [
      "/Users/jas/miniconda3/lib/python3.7/site-packages/ipykernel_launcher.py:4: UserWarning: Boolean Series key will be reindexed to match DataFrame index.\n",
      "  after removing the cwd from sys.path.\n"
     ]
    },
    {
     "data": {
      "text/html": [
       "<div>\n",
       "<style scoped>\n",
       "    .dataframe tbody tr th:only-of-type {\n",
       "        vertical-align: middle;\n",
       "    }\n",
       "\n",
       "    .dataframe tbody tr th {\n",
       "        vertical-align: top;\n",
       "    }\n",
       "\n",
       "    .dataframe thead th {\n",
       "        text-align: right;\n",
       "    }\n",
       "</style>\n",
       "<table border=\"1\" class=\"dataframe\">\n",
       "  <thead>\n",
       "    <tr style=\"text-align: right;\">\n",
       "      <th></th>\n",
       "      <th>year</th>\n",
       "      <th>first_letter</th>\n",
       "      <th>babies</th>\n",
       "    </tr>\n",
       "  </thead>\n",
       "  <tbody>\n",
       "    <tr>\n",
       "      <th>3303</th>\n",
       "      <td>2008</td>\n",
       "      <td>A</td>\n",
       "      <td>548561</td>\n",
       "    </tr>\n",
       "    <tr>\n",
       "      <th>3304</th>\n",
       "      <td>2008</td>\n",
       "      <td>J</td>\n",
       "      <td>466692</td>\n",
       "    </tr>\n",
       "    <tr>\n",
       "      <th>3305</th>\n",
       "      <td>2008</td>\n",
       "      <td>M</td>\n",
       "      <td>332027</td>\n",
       "    </tr>\n",
       "    <tr>\n",
       "      <th>3306</th>\n",
       "      <td>2008</td>\n",
       "      <td>C</td>\n",
       "      <td>288109</td>\n",
       "    </tr>\n",
       "    <tr>\n",
       "      <th>3307</th>\n",
       "      <td>2008</td>\n",
       "      <td>K</td>\n",
       "      <td>250422</td>\n",
       "    </tr>\n",
       "    <tr>\n",
       "      <th>3329</th>\n",
       "      <td>2009</td>\n",
       "      <td>A</td>\n",
       "      <td>533016</td>\n",
       "    </tr>\n",
       "    <tr>\n",
       "      <th>3330</th>\n",
       "      <td>2009</td>\n",
       "      <td>J</td>\n",
       "      <td>441518</td>\n",
       "    </tr>\n",
       "    <tr>\n",
       "      <th>3331</th>\n",
       "      <td>2009</td>\n",
       "      <td>M</td>\n",
       "      <td>317774</td>\n",
       "    </tr>\n",
       "    <tr>\n",
       "      <th>3332</th>\n",
       "      <td>2009</td>\n",
       "      <td>C</td>\n",
       "      <td>281708</td>\n",
       "    </tr>\n",
       "    <tr>\n",
       "      <th>3333</th>\n",
       "      <td>2009</td>\n",
       "      <td>K</td>\n",
       "      <td>240587</td>\n",
       "    </tr>\n",
       "    <tr>\n",
       "      <th>3355</th>\n",
       "      <td>2010</td>\n",
       "      <td>A</td>\n",
       "      <td>512858</td>\n",
       "    </tr>\n",
       "    <tr>\n",
       "      <th>3356</th>\n",
       "      <td>2010</td>\n",
       "      <td>J</td>\n",
       "      <td>421513</td>\n",
       "    </tr>\n",
       "    <tr>\n",
       "      <th>3357</th>\n",
       "      <td>2010</td>\n",
       "      <td>M</td>\n",
       "      <td>300804</td>\n",
       "    </tr>\n",
       "    <tr>\n",
       "      <th>3358</th>\n",
       "      <td>2010</td>\n",
       "      <td>C</td>\n",
       "      <td>267556</td>\n",
       "    </tr>\n",
       "    <tr>\n",
       "      <th>3359</th>\n",
       "      <td>2010</td>\n",
       "      <td>K</td>\n",
       "      <td>229904</td>\n",
       "    </tr>\n",
       "    <tr>\n",
       "      <th>3381</th>\n",
       "      <td>2011</td>\n",
       "      <td>A</td>\n",
       "      <td>510972</td>\n",
       "    </tr>\n",
       "    <tr>\n",
       "      <th>3382</th>\n",
       "      <td>2011</td>\n",
       "      <td>J</td>\n",
       "      <td>401327</td>\n",
       "    </tr>\n",
       "    <tr>\n",
       "      <th>3383</th>\n",
       "      <td>2011</td>\n",
       "      <td>M</td>\n",
       "      <td>301251</td>\n",
       "    </tr>\n",
       "    <tr>\n",
       "      <th>3384</th>\n",
       "      <td>2011</td>\n",
       "      <td>C</td>\n",
       "      <td>262470</td>\n",
       "    </tr>\n",
       "    <tr>\n",
       "      <th>3385</th>\n",
       "      <td>2011</td>\n",
       "      <td>E</td>\n",
       "      <td>227686</td>\n",
       "    </tr>\n",
       "    <tr>\n",
       "      <th>3407</th>\n",
       "      <td>2012</td>\n",
       "      <td>A</td>\n",
       "      <td>514140</td>\n",
       "    </tr>\n",
       "    <tr>\n",
       "      <th>3408</th>\n",
       "      <td>2012</td>\n",
       "      <td>J</td>\n",
       "      <td>384993</td>\n",
       "    </tr>\n",
       "    <tr>\n",
       "      <th>3409</th>\n",
       "      <td>2012</td>\n",
       "      <td>M</td>\n",
       "      <td>297916</td>\n",
       "    </tr>\n",
       "    <tr>\n",
       "      <th>3410</th>\n",
       "      <td>2012</td>\n",
       "      <td>C</td>\n",
       "      <td>259851</td>\n",
       "    </tr>\n",
       "    <tr>\n",
       "      <th>3411</th>\n",
       "      <td>2012</td>\n",
       "      <td>E</td>\n",
       "      <td>235347</td>\n",
       "    </tr>\n",
       "    <tr>\n",
       "      <th>3433</th>\n",
       "      <td>2013</td>\n",
       "      <td>A</td>\n",
       "      <td>509979</td>\n",
       "    </tr>\n",
       "    <tr>\n",
       "      <th>3434</th>\n",
       "      <td>2013</td>\n",
       "      <td>J</td>\n",
       "      <td>381573</td>\n",
       "    </tr>\n",
       "    <tr>\n",
       "      <th>3435</th>\n",
       "      <td>2013</td>\n",
       "      <td>M</td>\n",
       "      <td>297951</td>\n",
       "    </tr>\n",
       "    <tr>\n",
       "      <th>3436</th>\n",
       "      <td>2013</td>\n",
       "      <td>C</td>\n",
       "      <td>258216</td>\n",
       "    </tr>\n",
       "    <tr>\n",
       "      <th>3437</th>\n",
       "      <td>2013</td>\n",
       "      <td>E</td>\n",
       "      <td>239098</td>\n",
       "    </tr>\n",
       "    <tr>\n",
       "      <th>3459</th>\n",
       "      <td>2014</td>\n",
       "      <td>A</td>\n",
       "      <td>521520</td>\n",
       "    </tr>\n",
       "    <tr>\n",
       "      <th>3460</th>\n",
       "      <td>2014</td>\n",
       "      <td>J</td>\n",
       "      <td>371712</td>\n",
       "    </tr>\n",
       "    <tr>\n",
       "      <th>3461</th>\n",
       "      <td>2014</td>\n",
       "      <td>M</td>\n",
       "      <td>300519</td>\n",
       "    </tr>\n",
       "    <tr>\n",
       "      <th>3462</th>\n",
       "      <td>2014</td>\n",
       "      <td>C</td>\n",
       "      <td>261838</td>\n",
       "    </tr>\n",
       "    <tr>\n",
       "      <th>3463</th>\n",
       "      <td>2014</td>\n",
       "      <td>L</td>\n",
       "      <td>240868</td>\n",
       "    </tr>\n",
       "    <tr>\n",
       "      <th>3485</th>\n",
       "      <td>2015</td>\n",
       "      <td>A</td>\n",
       "      <td>524881</td>\n",
       "    </tr>\n",
       "    <tr>\n",
       "      <th>3486</th>\n",
       "      <td>2015</td>\n",
       "      <td>J</td>\n",
       "      <td>356416</td>\n",
       "    </tr>\n",
       "    <tr>\n",
       "      <th>3487</th>\n",
       "      <td>2015</td>\n",
       "      <td>M</td>\n",
       "      <td>301668</td>\n",
       "    </tr>\n",
       "    <tr>\n",
       "      <th>3488</th>\n",
       "      <td>2015</td>\n",
       "      <td>C</td>\n",
       "      <td>258129</td>\n",
       "    </tr>\n",
       "    <tr>\n",
       "      <th>3489</th>\n",
       "      <td>2015</td>\n",
       "      <td>L</td>\n",
       "      <td>242305</td>\n",
       "    </tr>\n",
       "    <tr>\n",
       "      <th>3511</th>\n",
       "      <td>2016</td>\n",
       "      <td>A</td>\n",
       "      <td>516653</td>\n",
       "    </tr>\n",
       "    <tr>\n",
       "      <th>3512</th>\n",
       "      <td>2016</td>\n",
       "      <td>J</td>\n",
       "      <td>343246</td>\n",
       "    </tr>\n",
       "    <tr>\n",
       "      <th>3513</th>\n",
       "      <td>2016</td>\n",
       "      <td>M</td>\n",
       "      <td>298290</td>\n",
       "    </tr>\n",
       "    <tr>\n",
       "      <th>3514</th>\n",
       "      <td>2016</td>\n",
       "      <td>C</td>\n",
       "      <td>252070</td>\n",
       "    </tr>\n",
       "    <tr>\n",
       "      <th>3515</th>\n",
       "      <td>2016</td>\n",
       "      <td>L</td>\n",
       "      <td>243150</td>\n",
       "    </tr>\n",
       "    <tr>\n",
       "      <th>3537</th>\n",
       "      <td>2017</td>\n",
       "      <td>A</td>\n",
       "      <td>496071</td>\n",
       "    </tr>\n",
       "    <tr>\n",
       "      <th>3538</th>\n",
       "      <td>2017</td>\n",
       "      <td>J</td>\n",
       "      <td>325467</td>\n",
       "    </tr>\n",
       "    <tr>\n",
       "      <th>3539</th>\n",
       "      <td>2017</td>\n",
       "      <td>M</td>\n",
       "      <td>289543</td>\n",
       "    </tr>\n",
       "    <tr>\n",
       "      <th>3540</th>\n",
       "      <td>2017</td>\n",
       "      <td>L</td>\n",
       "      <td>246822</td>\n",
       "    </tr>\n",
       "    <tr>\n",
       "      <th>3541</th>\n",
       "      <td>2017</td>\n",
       "      <td>E</td>\n",
       "      <td>244495</td>\n",
       "    </tr>\n",
       "    <tr>\n",
       "      <th>3563</th>\n",
       "      <td>2018</td>\n",
       "      <td>A</td>\n",
       "      <td>477260</td>\n",
       "    </tr>\n",
       "    <tr>\n",
       "      <th>3564</th>\n",
       "      <td>2018</td>\n",
       "      <td>J</td>\n",
       "      <td>312052</td>\n",
       "    </tr>\n",
       "    <tr>\n",
       "      <th>3565</th>\n",
       "      <td>2018</td>\n",
       "      <td>M</td>\n",
       "      <td>282992</td>\n",
       "    </tr>\n",
       "    <tr>\n",
       "      <th>3566</th>\n",
       "      <td>2018</td>\n",
       "      <td>E</td>\n",
       "      <td>246928</td>\n",
       "    </tr>\n",
       "    <tr>\n",
       "      <th>3567</th>\n",
       "      <td>2018</td>\n",
       "      <td>L</td>\n",
       "      <td>245058</td>\n",
       "    </tr>\n",
       "  </tbody>\n",
       "</table>\n",
       "</div>"
      ],
      "text/plain": [
       "      year first_letter  babies\n",
       "3303  2008            A  548561\n",
       "3304  2008            J  466692\n",
       "3305  2008            M  332027\n",
       "3306  2008            C  288109\n",
       "3307  2008            K  250422\n",
       "3329  2009            A  533016\n",
       "3330  2009            J  441518\n",
       "3331  2009            M  317774\n",
       "3332  2009            C  281708\n",
       "3333  2009            K  240587\n",
       "3355  2010            A  512858\n",
       "3356  2010            J  421513\n",
       "3357  2010            M  300804\n",
       "3358  2010            C  267556\n",
       "3359  2010            K  229904\n",
       "3381  2011            A  510972\n",
       "3382  2011            J  401327\n",
       "3383  2011            M  301251\n",
       "3384  2011            C  262470\n",
       "3385  2011            E  227686\n",
       "3407  2012            A  514140\n",
       "3408  2012            J  384993\n",
       "3409  2012            M  297916\n",
       "3410  2012            C  259851\n",
       "3411  2012            E  235347\n",
       "3433  2013            A  509979\n",
       "3434  2013            J  381573\n",
       "3435  2013            M  297951\n",
       "3436  2013            C  258216\n",
       "3437  2013            E  239098\n",
       "3459  2014            A  521520\n",
       "3460  2014            J  371712\n",
       "3461  2014            M  300519\n",
       "3462  2014            C  261838\n",
       "3463  2014            L  240868\n",
       "3485  2015            A  524881\n",
       "3486  2015            J  356416\n",
       "3487  2015            M  301668\n",
       "3488  2015            C  258129\n",
       "3489  2015            L  242305\n",
       "3511  2016            A  516653\n",
       "3512  2016            J  343246\n",
       "3513  2016            M  298290\n",
       "3514  2016            C  252070\n",
       "3515  2016            L  243150\n",
       "3537  2017            A  496071\n",
       "3538  2017            J  325467\n",
       "3539  2017            M  289543\n",
       "3540  2017            L  246822\n",
       "3541  2017            E  244495\n",
       "3563  2018            A  477260\n",
       "3564  2018            J  312052\n",
       "3565  2018            M  282992\n",
       "3566  2018            E  246928\n",
       "3567  2018            L  245058"
      ]
     },
     "execution_count": 10,
     "metadata": {},
     "output_type": "execute_result"
    }
   ],
   "source": [
    "# get dataframe sorted by baby names in each year\n",
    "g = first_letters.groupby([\"year\"]).apply(lambda x: x.sort_values([\"babies\"], ascending = False)).reset_index(drop=True)\n",
    "# select top N rows within each year\n",
    "g.groupby('year').head(5)[g['year']>=2008]"
   ]
  },
  {
   "cell_type": "markdown",
   "metadata": {},
   "source": [
    "* Looks like A, J, and M have been consistently popular for the past decade"
   ]
  },
  {
   "cell_type": "markdown",
   "metadata": {},
   "source": [
    " https://www.washingtonpost.com/technology/2020/05/08/musk-grimes-baby-name/"
   ]
  },
  {
   "cell_type": "markdown",
   "metadata": {},
   "source": [
    "### Elon Musk's baby name"
   ]
  },
  {
   "cell_type": "markdown",
   "metadata": {},
   "source": [
    "* If you haven't heard, Elon and his girlfriend (singer Grimes) recently had a baby boy and they gave him a unique name:\n",
    "X Æ A-12. However, the state of California only allows 26 english letters on the birth certificate. So I suspect\n",
    "they may eventually have to give baby X a more traditional name. What would be some good options?"
   ]
  },
  {
   "cell_type": "markdown",
   "metadata": {},
   "source": [
    "### X marks the spot"
   ]
  },
  {
   "cell_type": "markdown",
   "metadata": {},
   "source": [
    "* X seems to be the first choice, going by Grandma's latest tweet - https://twitter.com/mayemusk/status/1259297517776171008\n"
   ]
  },
  {
   "cell_type": "markdown",
   "metadata": {},
   "source": [
    "### So what were the most popular US baby names starting with X in the past decade?"
   ]
  },
  {
   "cell_type": "code",
   "execution_count": 10,
   "metadata": {},
   "outputs": [
    {
     "data": {
      "text/html": [
       "<div>\n",
       "<style scoped>\n",
       "    .dataframe tbody tr th:only-of-type {\n",
       "        vertical-align: middle;\n",
       "    }\n",
       "\n",
       "    .dataframe tbody tr th {\n",
       "        vertical-align: top;\n",
       "    }\n",
       "\n",
       "    .dataframe thead th {\n",
       "        text-align: right;\n",
       "    }\n",
       "</style>\n",
       "<table border=\"1\" class=\"dataframe\">\n",
       "  <thead>\n",
       "    <tr style=\"text-align: right;\">\n",
       "      <th></th>\n",
       "      <th>name</th>\n",
       "      <th>babies</th>\n",
       "      <th>percent_total</th>\n",
       "    </tr>\n",
       "  </thead>\n",
       "  <tbody>\n",
       "    <tr>\n",
       "      <th>0</th>\n",
       "      <td>Xavier</td>\n",
       "      <td>56833</td>\n",
       "      <td>61.29</td>\n",
       "    </tr>\n",
       "    <tr>\n",
       "      <th>1</th>\n",
       "      <td>Xander</td>\n",
       "      <td>19657</td>\n",
       "      <td>21.20</td>\n",
       "    </tr>\n",
       "    <tr>\n",
       "      <th>2</th>\n",
       "      <td>Xzavier</td>\n",
       "      <td>4058</td>\n",
       "      <td>4.38</td>\n",
       "    </tr>\n",
       "    <tr>\n",
       "      <th>3</th>\n",
       "      <td>Xavi</td>\n",
       "      <td>1747</td>\n",
       "      <td>1.88</td>\n",
       "    </tr>\n",
       "    <tr>\n",
       "      <th>4</th>\n",
       "      <td>Xavion</td>\n",
       "      <td>992</td>\n",
       "      <td>1.07</td>\n",
       "    </tr>\n",
       "    <tr>\n",
       "      <th>5</th>\n",
       "      <td>Xaiden</td>\n",
       "      <td>763</td>\n",
       "      <td>0.82</td>\n",
       "    </tr>\n",
       "    <tr>\n",
       "      <th>6</th>\n",
       "      <td>Xavian</td>\n",
       "      <td>756</td>\n",
       "      <td>0.82</td>\n",
       "    </tr>\n",
       "    <tr>\n",
       "      <th>7</th>\n",
       "      <td>Xavior</td>\n",
       "      <td>646</td>\n",
       "      <td>0.70</td>\n",
       "    </tr>\n",
       "    <tr>\n",
       "      <th>8</th>\n",
       "      <td>Xayden</td>\n",
       "      <td>513</td>\n",
       "      <td>0.55</td>\n",
       "    </tr>\n",
       "    <tr>\n",
       "      <th>9</th>\n",
       "      <td>Xzavion</td>\n",
       "      <td>508</td>\n",
       "      <td>0.55</td>\n",
       "    </tr>\n",
       "  </tbody>\n",
       "</table>\n",
       "</div>"
      ],
      "text/plain": [
       "      name  babies  percent_total\n",
       "0   Xavier   56833          61.29\n",
       "1   Xander   19657          21.20\n",
       "2  Xzavier    4058           4.38\n",
       "3     Xavi    1747           1.88\n",
       "4   Xavion     992           1.07\n",
       "5   Xaiden     763           0.82\n",
       "6   Xavian     756           0.82\n",
       "7   Xavior     646           0.70\n",
       "8   Xayden     513           0.55\n",
       "9  Xzavion     508           0.55"
      ]
     },
     "execution_count": 10,
     "metadata": {},
     "output_type": "execute_result"
    }
   ],
   "source": [
    "elon_baby_X_RAW = baby_names[(baby_names['year']>=2008) & (baby_names['first_letter']=='X') & (baby_names['sex']=='M')]\n",
    "#elon_baby_X_RAW.groupby('name')['babies'].sum().sort_values(ascending = False).head(10)\n",
    "elon_baby_X = elon_baby_X_RAW.groupby('name')['babies'].sum().sort_values(ascending = False).reset_index()\n",
    "#chance of being named if first letter chosen is X based on this frequency count\n",
    "elon_baby_X['percent_total'] = round(100 * (elon_baby_X['babies']/elon_baby_X['babies'].sum()), 2)\n",
    "top_10_X = elon_baby_X.head(10)\n",
    "top_10_X"
   ]
  },
  {
   "cell_type": "markdown",
   "metadata": {},
   "source": [
    "### A - Ash or Archangel or A...?\n"
   ]
  },
  {
   "cell_type": "markdown",
   "metadata": {},
   "source": [
    "* Another strong possibility is a name would starts with A Could it be Ash or Archangel? What variants could we expect?\n",
    "* **A** has been the most popular first letter for the past decade"
   ]
  },
  {
   "cell_type": "code",
   "execution_count": 12,
   "metadata": {},
   "outputs": [
    {
     "data": {
      "text/html": [
       "<div>\n",
       "<style scoped>\n",
       "    .dataframe tbody tr th:only-of-type {\n",
       "        vertical-align: middle;\n",
       "    }\n",
       "\n",
       "    .dataframe tbody tr th {\n",
       "        vertical-align: top;\n",
       "    }\n",
       "\n",
       "    .dataframe thead th {\n",
       "        text-align: right;\n",
       "    }\n",
       "</style>\n",
       "<table border=\"1\" class=\"dataframe\">\n",
       "  <thead>\n",
       "    <tr style=\"text-align: right;\">\n",
       "      <th></th>\n",
       "      <th>name</th>\n",
       "      <th>babies</th>\n",
       "      <th>percent_total</th>\n",
       "    </tr>\n",
       "  </thead>\n",
       "  <tbody>\n",
       "    <tr>\n",
       "      <th>0</th>\n",
       "      <td>Alexander</td>\n",
       "      <td>167408</td>\n",
       "      <td>7.72</td>\n",
       "    </tr>\n",
       "    <tr>\n",
       "      <th>1</th>\n",
       "      <td>Aiden</td>\n",
       "      <td>151534</td>\n",
       "      <td>6.99</td>\n",
       "    </tr>\n",
       "    <tr>\n",
       "      <th>2</th>\n",
       "      <td>Anthony</td>\n",
       "      <td>138848</td>\n",
       "      <td>6.40</td>\n",
       "    </tr>\n",
       "    <tr>\n",
       "      <th>3</th>\n",
       "      <td>Andrew</td>\n",
       "      <td>129570</td>\n",
       "      <td>5.98</td>\n",
       "    </tr>\n",
       "    <tr>\n",
       "      <th>4</th>\n",
       "      <td>Aaron</td>\n",
       "      <td>81285</td>\n",
       "      <td>3.75</td>\n",
       "    </tr>\n",
       "    <tr>\n",
       "      <th>5</th>\n",
       "      <td>Angel</td>\n",
       "      <td>78119</td>\n",
       "      <td>3.60</td>\n",
       "    </tr>\n",
       "    <tr>\n",
       "      <th>6</th>\n",
       "      <td>Adrian</td>\n",
       "      <td>75646</td>\n",
       "      <td>3.49</td>\n",
       "    </tr>\n",
       "    <tr>\n",
       "      <th>7</th>\n",
       "      <td>Austin</td>\n",
       "      <td>69839</td>\n",
       "      <td>3.22</td>\n",
       "    </tr>\n",
       "    <tr>\n",
       "      <th>8</th>\n",
       "      <td>Adam</td>\n",
       "      <td>58142</td>\n",
       "      <td>2.68</td>\n",
       "    </tr>\n",
       "    <tr>\n",
       "      <th>9</th>\n",
       "      <td>Ayden</td>\n",
       "      <td>56200</td>\n",
       "      <td>2.59</td>\n",
       "    </tr>\n",
       "  </tbody>\n",
       "</table>\n",
       "</div>"
      ],
      "text/plain": [
       "        name  babies  percent_total\n",
       "0  Alexander  167408           7.72\n",
       "1      Aiden  151534           6.99\n",
       "2    Anthony  138848           6.40\n",
       "3     Andrew  129570           5.98\n",
       "4      Aaron   81285           3.75\n",
       "5      Angel   78119           3.60\n",
       "6     Adrian   75646           3.49\n",
       "7     Austin   69839           3.22\n",
       "8       Adam   58142           2.68\n",
       "9      Ayden   56200           2.59"
      ]
     },
     "execution_count": 12,
     "metadata": {},
     "output_type": "execute_result"
    }
   ],
   "source": [
    "elon_baby_A_RAW = baby_names[(baby_names['year']>=2008) & (baby_names['first_letter']=='A') & (baby_names['sex']=='M')]\n",
    "#elon_baby_X_RAW.groupby('name')['babies'].sum().sort_values(ascending = False).head(10)\n",
    "elon_baby_A = elon_baby_A_RAW.groupby('name')['babies'].sum().sort_values(ascending = False).reset_index()\n",
    "#chance of being named if first letter chosen is A based on this frequency count\n",
    "#elon_baby_A['percent_total'] = 100 * (elon_baby_A['babies']/elon_baby_A['babies'].sum())\n",
    "elon_baby_A['percent_total'] = round(100 * elon_baby_A['babies']/elon_baby_A['babies'].sum(), 2)\n",
    "top_10_A = elon_baby_A.head(10)\n",
    "top_10_A"
   ]
  },
  {
   "cell_type": "markdown",
   "metadata": {},
   "source": [
    "* Angel is in the top 10, my bet is that could be the nickname for the official name of Archangel. This time the distribution is much more evenly distribute so no clear winner here. "
   ]
  },
  {
   "cell_type": "code",
   "execution_count": 17,
   "metadata": {},
   "outputs": [
    {
     "data": {
      "image/png": "[encoded data removed]",
      "text/plain": [
       "<Figure size 432x288 with 1 Axes>"
      ]
     },
     "metadata": {
      "needs_background": "light"
     },
     "output_type": "display_data"
    }
   ],
   "source": [
    "#https://matplotlib.org/3.2.1/gallery/lines_bars_and_markers/barh.html\n",
    "\n",
    "ax = top_10_A.plot.barh(x='name', y='babies')\n",
    "ax.invert_yaxis()  # labels read top-to-bottom\n",
    "ax.set_xlabel('Total babies born')\n",
    "ax.set_title('Top 10 US Baby Names - starting with '  + r\"$\\bf{\" + \" A \" + \"}$\" + ' (2008-2018)')\n",
    "ax.get_legend().remove()\n",
    "plt.show()"
   ]
  },
  {
   "cell_type": "code",
   "execution_count": null,
   "metadata": {},
   "outputs": [],
   "source": [
    "### Back to X names"
   ]
  },
  {
   "cell_type": "code",
   "execution_count": 18,
   "metadata": {},
   "outputs": [
    {
     "data": {
      "image/png": "[encoded data removed]",
      "text/plain": [
       "<Figure size 432x288 with 1 Axes>"
      ]
     },
     "metadata": {
      "needs_background": "light"
     },
     "output_type": "display_data"
    }
   ],
   "source": [
    "ax = top_10_X.plot.barh(x='name', y='babies', color='black')\n",
    "ax.invert_yaxis()  # labels read top-to-bottom\n",
    "ax.set_xlabel('Total babies born')\n",
    "ax.set_title('Top 10 US Baby Names - starting with '  + r\"$\\bf{\" + \" X \" + \"}$\" + ' (2008-2018)')\n",
    "ax.get_legend().remove()\n",
    "plt.show()"
   ]
  },
  {
   "cell_type": "markdown",
   "metadata": {},
   "source": [
    "### Michael Jordan - Be Like Mike?"
   ]
  },
  {
   "cell_type": "markdown",
   "metadata": {},
   "source": [
    "* From arguably, one billionaire in silicon valley to another in the sports world\n",
    "* https://www.businessinsider.com/how-michael-jordan-spends-his-money-2015-3#jordan-is-the-worlds-first-athlete-billionaire-1)\n",
    "* One more, current events, you may be watching the last dance with Michael Jordan. How popular did Mike>\n",
    "* How many babies were born like Mike?"
   ]
  },
  {
   "cell_type": "code",
   "execution_count": null,
   "metadata": {},
   "outputs": [],
   "source": [
    "# Where was the Mike baby boom? Illinois, North Carolina, or some other state?"
   ]
  },
  {
   "cell_type": "code",
   "execution_count": null,
   "metadata": {},
   "outputs": [],
   "source": []
  },
  {
   "cell_type": "code",
   "execution_count": null,
   "metadata": {},
   "outputs": [],
   "source": [
    "* How about Jordan?"
   ]
  },
  {
   "cell_type": "code",
   "execution_count": null,
   "metadata": {},
   "outputs": [],
   "source": [
    "### Pandemic Names"
   ]
  },
  {
   "cell_type": "code",
   "execution_count": null,
   "metadata": {},
   "outputs": [],
   "source": [
    "Finally, if you are lucky enough to be expecting a baby boy or girl, how about choosing a name that was popular doingin the last major pandemic?"
   ]
  }
 ],
 "metadata": {
  "kernelspec": {
   "display_name": "Python 3",
   "language": "python",
   "name": "python3"
  },
  "language_info": {
   "codemirror_mode": {
    "name": "ipython",
    "version": 3
   },
   "file_extension": ".py",
   "mimetype": "text/x-python",
   "name": "python",
   "nbconvert_exporter": "python",
   "pygments_lexer": "ipython3",
   "version": "3.7.1"
  }
 },
 "nbformat": 4,
 "nbformat_minor": 2
}
